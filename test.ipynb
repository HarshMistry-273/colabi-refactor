{
 "cells": [
  {
   "cell_type": "code",
   "execution_count": 1,
   "metadata": {},
   "outputs": [
    {
     "name": "stdout",
     "output_type": "stream",
     "text": [
      "Collecting nltk\n",
      "  Obtaining dependency information for nltk from https://files.pythonhosted.org/packages/4d/66/7d9e26593edda06e8cb531874633f7c2372279c3b0f46235539fe546df8b/nltk-3.9.1-py3-none-any.whl.metadata\n",
      "  Downloading nltk-3.9.1-py3-none-any.whl.metadata (2.9 kB)\n",
      "Requirement already satisfied: click in c:\\users\\dreamworld\\desktop\\colabi\\venv\\lib\\site-packages (from nltk) (8.1.7)\n",
      "Requirement already satisfied: joblib in c:\\users\\dreamworld\\desktop\\colabi\\venv\\lib\\site-packages (from nltk) (1.4.2)\n",
      "Requirement already satisfied: regex>=2021.8.3 in c:\\users\\dreamworld\\desktop\\colabi\\venv\\lib\\site-packages (from nltk) (2024.9.11)\n",
      "Requirement already satisfied: tqdm in c:\\users\\dreamworld\\desktop\\colabi\\venv\\lib\\site-packages (from nltk) (4.66.5)\n",
      "Requirement already satisfied: colorama in c:\\users\\dreamworld\\desktop\\colabi\\venv\\lib\\site-packages (from click->nltk) (0.4.6)\n",
      "Downloading nltk-3.9.1-py3-none-any.whl (1.5 MB)\n",
      "   ---------------------------------------- 0.0/1.5 MB ? eta -:--:--\n",
      "   ---------------------------------------- 0.0/1.5 MB ? eta -:--:--\n",
      "   ---------------------------------------- 0.0/1.5 MB ? eta -:--:--\n",
      "   - -------------------------------------- 0.0/1.5 MB 393.8 kB/s eta 0:00:04\n",
      "   ----- ---------------------------------- 0.2/1.5 MB 1.3 MB/s eta 0:00:01\n",
      "   -------------------- ------------------- 0.8/1.5 MB 4.1 MB/s eta 0:00:01\n",
      "   ---------------------------------------- 1.5/1.5 MB 6.8 MB/s eta 0:00:00\n",
      "Installing collected packages: nltk\n",
      "Successfully installed nltk-3.9.1\n"
     ]
    },
    {
     "name": "stderr",
     "output_type": "stream",
     "text": [
      "\n",
      "[notice] A new release of pip is available: 23.2.1 -> 24.2\n",
      "[notice] To update, run: python.exe -m pip install --upgrade pip\n"
     ]
    }
   ],
   "source": [
    "! pip install nltk"
   ]
  },
  {
   "cell_type": "code",
   "execution_count": 5,
   "metadata": {},
   "outputs": [],
   "source": [
    "\n",
    "\n",
    "chats = [{'chat_id': '05c0b86d-991d-49ef-a025-efe7db4b4246', 'query': 'Hi', 'response': \"I'm here to help! Please let me know what question you have or what assistance you need, and I'll do my best to provide a friendly and helpful response.\", 'created_at': \"datetime.datetime(2024, 10, 18, 4, 38, 38)\"}, {'chat_id': '9305d2ee-65ad-4d11-950b-0ed4b0c82e26', 'query': 'Do you know who is god of cricket?', 'response': 'The \"God of Cricket\" is widely recognized as Sachin Ramesh Tendulkar, who is considered one of the greatest batsmen in the history of cricket. He holds numerous records, including being the highest run-scorer in both Test and ODI cricket, and is revered by fans for his contributions and impact on the game.', 'created_at': \"datetime.datetime(2024, 10, 18, 4, 38, 38)\"}]"
   ]
  },
  {
   "cell_type": "code",
   "execution_count": 9,
   "metadata": {},
   "outputs": [
    {
     "name": "stderr",
     "output_type": "stream",
     "text": [
      "[nltk_data] Downloading package punkt_tab to\n",
      "[nltk_data]     C:\\Users\\Dreamworld\\AppData\\Roaming\\nltk_data...\n",
      "[nltk_data]   Package punkt_tab is already up-to-date!\n",
      "[nltk_data] Downloading package stopwords to\n",
      "[nltk_data]     C:\\Users\\Dreamworld\\AppData\\Roaming\\nltk_data...\n",
      "[nltk_data]   Unzipping corpora\\stopwords.zip.\n"
     ]
    },
    {
     "data": {
      "text/plain": [
       "True"
      ]
     },
     "execution_count": 9,
     "metadata": {},
     "output_type": "execute_result"
    }
   ],
   "source": [
    "import nltk\n",
    "nltk.download('punkt_tab')\n",
    "nltk.download('stopwords')"
   ]
  },
  {
   "cell_type": "code",
   "execution_count": 26,
   "metadata": {},
   "outputs": [],
   "source": [
    "from nltk.tokenize import word_tokenize\n",
    "from nltk.stem import SnowballStemmer\n",
    "from nltk.corpus import stopwords\n",
    "from sklearn.feature_extraction.text import TfidfVectorizer\n",
    "from sklearn.metrics.pairwise import cosine_similarity"
   ]
  },
  {
   "cell_type": "code",
   "execution_count": 40,
   "metadata": {},
   "outputs": [],
   "source": [
    "snow_stem = SnowballStemmer(language=\"english\")\n",
    "query_chats = []\n",
    "response_chats = []\n",
    "if chats:\n",
    "    for chat in chats:\n",
    "        query_tok = word_tokenize(chat[\"query\"].lower())\n",
    "        query_chats.append(\n",
    "            \" \".join(\n",
    "                [\n",
    "                    snow_stem.stem(word)\n",
    "                    for word in query_tok\n",
    "                    if word not in stopwords.words(\"english\")\n",
    "                ]\n",
    "            )\n",
    "        )\n",
    "        res_tok = word_tokenize(chat[\"response\"].lower())\n",
    "        response_chats.append(\n",
    "            \" \".join(\n",
    "                [\n",
    "                    snow_stem.stem(word)\n",
    "                    for word in res_tok\n",
    "                    if word not in stopwords.words(\"english\")\n",
    "                ]\n",
    "            )\n",
    "        )\n",
    "\n",
    "        # print(query_sent)\n",
    "        # print(res_sent)"
   ]
  },
  {
   "cell_type": "code",
   "execution_count": 21,
   "metadata": {},
   "outputs": [
    {
     "data": {
      "text/plain": [
       "['hi', 'know god cricket ?']"
      ]
     },
     "execution_count": 21,
     "metadata": {},
     "output_type": "execute_result"
    }
   ],
   "source": [
    "query_chats"
   ]
  },
  {
   "cell_type": "code",
   "execution_count": 22,
   "metadata": {},
   "outputs": [
    {
     "data": {
      "text/plain": [
       "[\"'m help ! plea let know question assist need , best provid friend help respon .\",\n",
       " '`` god cricket `` wide recogn sachin ramesh tendulkar , consid one greatest batsmen histori cricket . hold numer record , includ highest run-scor test odi cricket , rever fan contribut impact game .']"
      ]
     },
     "execution_count": 22,
     "metadata": {},
     "output_type": "execute_result"
    }
   ],
   "source": [
    "response_chats"
   ]
  },
  {
   "cell_type": "code",
   "execution_count": 41,
   "metadata": {},
   "outputs": [],
   "source": [
    "vectorizer = TfidfVectorizer()\n",
    "X = vectorizer.fit_transform(response_chats)"
   ]
  },
  {
   "cell_type": "code",
   "execution_count": 42,
   "metadata": {},
   "outputs": [
    {
     "data": {
      "text/plain": [
       "array(['assist', 'batsmen', 'best', 'consid', 'contribut', 'cricket',\n",
       "       'fan', 'friend', 'game', 'god', 'greatest', 'help', 'highest',\n",
       "       'histori', 'hold', 'impact', 'includ', 'know', 'let', 'need',\n",
       "       'numer', 'odi', 'one', 'plea', 'provid', 'question', 'ramesh',\n",
       "       'recogn', 'record', 'respon', 'rever', 'run', 'sachin', 'scor',\n",
       "       'tendulkar', 'test', 'wide'], dtype=object)"
      ]
     },
     "execution_count": 42,
     "metadata": {},
     "output_type": "execute_result"
    }
   ],
   "source": [
    "vectorizer.get_feature_names_out()"
   ]
  },
  {
   "cell_type": "code",
   "execution_count": 43,
   "metadata": {},
   "outputs": [],
   "source": [
    "uquery = [\"Cricket\"]\n",
    "uquery_tfidf = vectorizer.transform(uquery)\n",
    "cosine_similarities = cosine_similarity(X, uquery_tfidf).flatten()"
   ]
  },
  {
   "cell_type": "code",
   "execution_count": 44,
   "metadata": {},
   "outputs": [
    {
     "data": {
      "text/plain": [
       "array([0.        , 0.51449576])"
      ]
     },
     "execution_count": 44,
     "metadata": {},
     "output_type": "execute_result"
    }
   ],
   "source": [
    "cosine_similarities"
   ]
  },
  {
   "cell_type": "code",
   "execution_count": 45,
   "metadata": {},
   "outputs": [
    {
     "name": "stdout",
     "output_type": "stream",
     "text": [
      "[1 0]\n"
     ]
    }
   ],
   "source": [
    "import numpy as np\n",
    "\n",
    "\n",
    "def top_k(arr, k):\n",
    "    kth_largest = (k + 1) * -1\n",
    "    return np.argsort(arr)[:kth_largest:-1]\n",
    "\n",
    "# Return top 5 document indices\n",
    "top_related_indices = top_k(cosine_similarities, 5)\n",
    "print(top_related_indices)"
   ]
  },
  {
   "cell_type": "code",
   "execution_count": 53,
   "metadata": {},
   "outputs": [
    {
     "data": {
      "text/plain": [
       "array([0.51449576, 0.        ])"
      ]
     },
     "execution_count": 53,
     "metadata": {},
     "output_type": "execute_result"
    }
   ],
   "source": [
    "cosine_similarities[top_related_indices]"
   ]
  },
  {
   "cell_type": "code",
   "execution_count": 46,
   "metadata": {},
   "outputs": [
    {
     "name": "stdout",
     "output_type": "stream",
     "text": [
      "[0.51449576 0.        ]\n"
     ]
    }
   ],
   "source": [
    "print(cosine_similarities[top_related_indices])"
   ]
  },
  {
   "cell_type": "code",
   "execution_count": 51,
   "metadata": {},
   "outputs": [
    {
     "name": "stdout",
     "output_type": "stream",
     "text": [
      "`` god cricket `` wide recogn sachin ramesh tendulkar , consid one greatest batsmen histori cricket . hold numer record , includ highest run-scor test odi cricket , rever fan contribut impact game .\n"
     ]
    }
   ],
   "source": [
    "# Top match\n",
    "print(response_chats[top_related_indices[0]])"
   ]
  },
  {
   "cell_type": "code",
   "execution_count": 50,
   "metadata": {},
   "outputs": [
    {
     "data": {
      "text/plain": [
       "205"
      ]
     },
     "execution_count": 50,
     "metadata": {},
     "output_type": "execute_result"
    }
   ],
   "source": [
    "len(chats[1]['response'])"
   ]
  },
  {
   "cell_type": "code",
   "execution_count": 15,
   "metadata": {},
   "outputs": [
    {
     "data": {
      "text/plain": [
       "[{'chat_id': '05c0b86d-991d-49ef-a025-efe7db4b4246',\n",
       "  'query': 'Hi',\n",
       "  'response': \"I'm here to help! Please let me know what question you have or what assistance you need, and I'll do my best to provide a friendly and helpful response.\",\n",
       "  'created_at': 'datetime.datetime(2024, 10, 18, 4, 38, 38)'},\n",
       " {'chat_id': '9305d2ee-65ad-4d11-950b-0ed4b0c82e26',\n",
       "  'query': 'Do you know who is god of cricket?',\n",
       "  'response': 'The \"God of Cricket\" is widely recognized as Sachin Ramesh Tendulkar, who is considered one of the greatest batsmen in the history of cricket. He holds numerous records, including being the highest run-scorer in both Test and ODI cricket, and is revered by fans for his contributions and impact on the game.',\n",
       "  'created_at': 'datetime.datetime(2024, 10, 18, 4, 38, 38)'}]"
      ]
     },
     "execution_count": 15,
     "metadata": {},
     "output_type": "execute_result"
    }
   ],
   "source": [
    "chats"
   ]
  },
  {
   "cell_type": "code",
   "execution_count": 17,
   "metadata": {},
   "outputs": [
    {
     "data": {
      "text/plain": [
       "[{'chat_id': '05c0b86d-991d-49ef-a025-efe7db4b4246',\n",
       "  'query': 'hi',\n",
       "  'response': \"i 'm help ! pleas let know question assist need , i ll best provid friend help respons .\",\n",
       "  'created_at': 'datetime.datetime(2024, 10, 18, 4, 38, 38)'},\n",
       " {'chat_id': '9305d2ee-65ad-4d11-950b-0ed4b0c82e26',\n",
       "  'query': 'do know god cricket ?',\n",
       "  'response': \"the `` god cricket '' wide recogn sachin ramesh tendulkar , consid one greatest batsmen histori cricket . he hold numer record , includ highest run-scor test odi cricket , rever fan contribut impact game .\",\n",
       "  'created_at': 'datetime.datetime(2024, 10, 18, 4, 38, 38)'}]"
      ]
     },
     "execution_count": 17,
     "metadata": {},
     "output_type": "execute_result"
    }
   ],
   "source": [
    "chats"
   ]
  },
  {
   "cell_type": "code",
   "execution_count": null,
   "metadata": {},
   "outputs": [],
   "source": []
  }
 ],
 "metadata": {
  "kernelspec": {
   "display_name": "venv",
   "language": "python",
   "name": "python3"
  },
  "language_info": {
   "codemirror_mode": {
    "name": "ipython",
    "version": 3
   },
   "file_extension": ".py",
   "mimetype": "text/x-python",
   "name": "python",
   "nbconvert_exporter": "python",
   "pygments_lexer": "ipython3",
   "version": "3.12.0"
  }
 },
 "nbformat": 4,
 "nbformat_minor": 2
}
